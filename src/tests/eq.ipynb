{
 "cells": [
  {
   "cell_type": "code",
   "execution_count": 8,
   "metadata": {},
   "outputs": [],
   "source": [
    "from sympy import *\n",
    "init_printing(use_unicode=False, wrap_line=False)"
   ]
  },
  {
   "cell_type": "code",
   "execution_count": 12,
   "metadata": {},
   "outputs": [
    {
     "data": {
      "image/png": "[encoded data removed]",
      "text/latex": [
       "$\\displaystyle \\frac{\\sqrt{1 - \\frac{4 \\left(l + x\\right)^{2}}{b^{2}}}}{\\left(h^{2} + l^{2}\\right)^{1.5}}$"
      ],
      "text/plain": [
       "      ________________              \n",
       "     /              2           -1.5\n",
       "    /      4*(l + x)   / 2    2\\    \n",
       "   /   1 - ---------- *\\h  + l /    \n",
       "  /             2                   \n",
       "\\/             b                    "
      ]
     },
     "metadata": {},
     "output_type": "display_data"
    },
    {
     "data": {
      "image/png": "[encoded data removed]",
      "text/latex": [
       "$\\displaystyle \\int \\frac{\\sqrt{- \\left(-1 + \\frac{2 l}{b} + \\frac{2 x}{b}\\right) \\left(1 + \\frac{2 l}{b} + \\frac{2 x}{b}\\right)}}{\\left(h^{2} + l^{2}\\right)^{1.5}}\\, dl$"
      ],
      "text/plain": [
       "  /                                                        \n",
       " |                                                         \n",
       " |     ___________________________________          -1.5   \n",
       " |    /  /     2*l   2*x\\ /    2*l   2*x\\  / 2    2\\       \n",
       " |   /  -|-1 + --- + ---|*|1 + --- + ---| *\\h  + l /     dl\n",
       " | \\/    \\      b     b / \\     b     b /                  \n",
       " |                                                         \n",
       "/                                                          "
      ]
     },
     "metadata": {},
     "output_type": "display_data"
    }
   ],
   "source": [
    "l, h, x, b = symbols('l, h, x, b')\n",
    "\n",
    "func = sqrt(1 - pow((l + x) / (b / 2), 2)) / pow(pow(h, 2) + pow(l, 2), 3 / 2)\n",
    "\n",
    "display(func)\n",
    "\n",
    "func_int = integrate(func, l)\n",
    "\n",
    "display(func_int)"
   ]
  }
 ],
 "metadata": {
  "kernelspec": {
   "display_name": "Python 3.8.10 64-bit",
   "language": "python",
   "name": "python3"
  },
  "language_info": {
   "codemirror_mode": {
    "name": "ipython",
    "version": 3
   },
   "file_extension": ".py",
   "mimetype": "text/x-python",
   "name": "python",
   "nbconvert_exporter": "python",
   "pygments_lexer": "ipython3",
   "version": "3.8.10"
  },
  "orig_nbformat": 4,
  "vscode": {
   "interpreter": {
    "hash": "916dbcbb3f70747c44a77c7bcd40155683ae19c65e1c03b4aa3499c5328201f1"
   }
  }
 },
 "nbformat": 4,
 "nbformat_minor": 2
}
